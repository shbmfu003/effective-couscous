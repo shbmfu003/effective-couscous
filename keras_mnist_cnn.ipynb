{
 "cells": [
  {
   "cell_type": "markdown",
   "metadata": {},
   "source": [
    "Developing a deep learning model to achive near state of the art performance on the MNIST digit recognition task in Python 3 using the Keras deep learning library."
   ]
  },
  {
   "cell_type": "markdown",
   "metadata": {},
   "source": [
    "### Loading the MNIST dataset from Keras"
   ]
  },
  {
   "cell_type": "code",
   "execution_count": 1,
   "metadata": {},
   "outputs": [],
   "source": [
    "# importing 3 party libraries"
   ]
  },
  {
   "cell_type": "code",
   "execution_count": 2,
   "metadata": {},
   "outputs": [
    {
     "name": "stderr",
     "output_type": "stream",
     "text": [
      "Using TensorFlow backend.\n"
     ]
    }
   ],
   "source": [
    "import numpy as np\n",
    "import matplotlib.pyplot as plt\n",
    "from keras.datasets import mnist\n",
    "from keras.models import Sequential\n",
    "from keras.layers import Dense, Dropout, Flatten\n",
    "from keras.layers.convolutional import Conv2D, MaxPooling2D\n",
    "from keras.callbacks import Callback, EarlyStopping, ReduceLROnPlateau\n",
    "from keras.utils import np_utils\n",
    "from keras import backend as K"
   ]
  },
  {
   "cell_type": "code",
   "execution_count": 3,
   "metadata": {},
   "outputs": [],
   "source": [
    "# configuring the convolutional kernels to have the shape (depth, input_depth, rows, columns)"
   ]
  },
  {
   "cell_type": "code",
   "execution_count": 4,
   "metadata": {},
   "outputs": [],
   "source": [
    "K.set_image_dim_ordering('th')"
   ]
  },
  {
   "cell_type": "code",
   "execution_count": 5,
   "metadata": {},
   "outputs": [],
   "source": [
    "# initializing the seed for results reproducibility"
   ]
  },
  {
   "cell_type": "code",
   "execution_count": 6,
   "metadata": {},
   "outputs": [],
   "source": [
    "seed = 10\n",
    "np.random.seed(seed)"
   ]
  },
  {
   "cell_type": "code",
   "execution_count": 7,
   "metadata": {},
   "outputs": [],
   "source": [
    "# loading the mnist dataset from the keras library"
   ]
  },
  {
   "cell_type": "code",
   "execution_count": 8,
   "metadata": {},
   "outputs": [],
   "source": [
    "(x_train, y_train), (x_test, y_test) = mnist.load_data()"
   ]
  },
  {
   "cell_type": "code",
   "execution_count": 9,
   "metadata": {},
   "outputs": [],
   "source": [
    "# 2*2 subplots of the first four grey-scale images"
   ]
  },
  {
   "cell_type": "code",
   "execution_count": 10,
   "metadata": {},
   "outputs": [
    {
     "data": {
      "image/png": "[encoded data removed]",
      "text/plain": [
       "<Figure size 432x288 with 4 Axes>"
      ]
     },
     "metadata": {
      "needs_background": "light"
     },
     "output_type": "display_data"
    }
   ],
   "source": [
    "for i in range(4):\n",
    "    plt.subplot(221+i)\n",
    "    plt.imshow(x_train[i], cmap=plt.get_cmap(name='gray'))\n",
    "plt.show()"
   ]
  },
  {
   "cell_type": "markdown",
   "metadata": {},
   "source": [
    "### Data Preprocessing"
   ]
  },
  {
   "cell_type": "markdown",
   "metadata": {},
   "source": [
    "We are using a pixel dimension equal 1 because these are greyscale images. For RGB images we would need to set it at 3 as if it were 3 colour image input."
   ]
  },
  {
   "cell_type": "code",
   "execution_count": 11,
   "metadata": {},
   "outputs": [],
   "source": [
    "# reshape to [samples][pixel][width][height] and forcing the pixel precision to 32 bits"
   ]
  },
  {
   "cell_type": "code",
   "execution_count": 12,
   "metadata": {},
   "outputs": [],
   "source": [
    "X_train = x_train.reshape(x_train.shape[0], 1, x_train.shape[1], x_train.shape[2]).astype('float32')\n",
    "X_test = x_test.reshape(x_test.shape[0], 1, x_test.shape[1], x_test.shape[2]).astype('float32')"
   ]
  },
  {
   "cell_type": "code",
   "execution_count": 13,
   "metadata": {},
   "outputs": [],
   "source": [
    "# converting class vectors to binary class vectors"
   ]
  },
  {
   "cell_type": "code",
   "execution_count": 14,
   "metadata": {},
   "outputs": [],
   "source": [
    "Y_train = np_utils.to_categorical(y_train, dtype='float32')\n",
    "Y_test = np_utils.to_categorical(y_test, dtype='float32')\n",
    "num_classes = Y_train.shape[1]"
   ]
  },
  {
   "cell_type": "code",
   "execution_count": 15,
   "metadata": {},
   "outputs": [
    {
     "data": {
      "text/plain": [
       "10"
      ]
     },
     "execution_count": 15,
     "metadata": {},
     "output_type": "execute_result"
    }
   ],
   "source": [
    "num_classes"
   ]
  },
  {
   "cell_type": "markdown",
   "metadata": {},
   "source": [
    "### Creating a Convolutional Neural Network (CNN) model"
   ]
  },
  {
   "cell_type": "code",
   "execution_count": 16,
   "metadata": {},
   "outputs": [
    {
     "data": {
      "text/plain": [
       "(1, 28, 28)"
      ]
     },
     "execution_count": 16,
     "metadata": {},
     "output_type": "execute_result"
    }
   ],
   "source": [
    "X_train.shape[1:]"
   ]
  },
  {
   "cell_type": "code",
   "execution_count": 17,
   "metadata": {},
   "outputs": [],
   "source": [
    "def baseline_cnn_model(X):\n",
    "    model = Sequential()\n",
    "    model.add(Conv2D(32, (5, 5), kernel_initializer='normal', input_shape=X.shape[1:], activation='relu', padding='same'))\n",
    "    model.add(MaxPooling2D(pool_size=(2, 2)))\n",
    "    model.add(Conv2D(15, (3, 3), kernel_initializer='normal', activation='relu', padding='same'))\n",
    "    model.add(MaxPooling2D(pool_size=(2, 2)))\n",
    "    model.add(Dropout(0.2))\n",
    "    model.add(Flatten())\n",
    "    model.add(Dense(128, kernel_initializer='normal', activation='relu'))\n",
    "    model.add(Dropout(0.2))\n",
    "    model.add(Dense(64, kernel_initializer='normal', activation='relu'))\n",
    "    model.add(Dropout(0.2))\n",
    "    model.add(Dense(32, kernel_initializer='normal', activation='relu'))\n",
    "    model.add(Dense(num_classes, activation='softmax'))\n",
    "    return model\n",
    "\n",
    "model = baseline_cnn_model(X_train)"
   ]
  },
  {
   "cell_type": "code",
   "execution_count": 18,
   "metadata": {},
   "outputs": [
    {
     "name": "stdout",
     "output_type": "stream",
     "text": [
      "_________________________________________________________________\n",
      "Layer (type)                 Output Shape              Param #   \n",
      "=================================================================\n",
      "conv2d_1 (Conv2D)            (None, 32, 28, 28)        832       \n",
      "_________________________________________________________________\n",
      "max_pooling2d_1 (MaxPooling2 (None, 32, 14, 14)        0         \n",
      "_________________________________________________________________\n",
      "conv2d_2 (Conv2D)            (None, 15, 14, 14)        4335      \n",
      "_________________________________________________________________\n",
      "max_pooling2d_2 (MaxPooling2 (None, 15, 7, 7)          0         \n",
      "_________________________________________________________________\n",
      "dropout_1 (Dropout)          (None, 15, 7, 7)          0         \n",
      "_________________________________________________________________\n",
      "flatten_1 (Flatten)          (None, 735)               0         \n",
      "_________________________________________________________________\n",
      "dense_1 (Dense)              (None, 128)               94208     \n",
      "_________________________________________________________________\n",
      "dropout_2 (Dropout)          (None, 128)               0         \n",
      "_________________________________________________________________\n",
      "dense_2 (Dense)              (None, 64)                8256      \n",
      "_________________________________________________________________\n",
      "dropout_3 (Dropout)          (None, 64)                0         \n",
      "_________________________________________________________________\n",
      "dense_3 (Dense)              (None, 32)                2080      \n",
      "_________________________________________________________________\n",
      "dense_4 (Dense)              (None, 10)                330       \n",
      "=================================================================\n",
      "Total params: 110,041\n",
      "Trainable params: 110,041\n",
      "Non-trainable params: 0\n",
      "_________________________________________________________________\n"
     ]
    }
   ],
   "source": [
    "model.summary()"
   ]
  },
  {
   "cell_type": "markdown",
   "metadata": {},
   "source": [
    "### Compiling then fitting the model"
   ]
  },
  {
   "cell_type": "code",
   "execution_count": 19,
   "metadata": {},
   "outputs": [],
   "source": [
    "# Creating the callbacks to help recording the history dictionary, \n",
    "# reducing the LR and early stopping if there is no performance improvements respectively"
   ]
  },
  {
   "cell_type": "code",
   "execution_count": 20,
   "metadata": {},
   "outputs": [],
   "source": [
    "epochs = 20\n",
    "BATCH = 200"
   ]
  },
  {
   "cell_type": "code",
   "execution_count": 21,
   "metadata": {},
   "outputs": [],
   "source": [
    "class LossHistory(Callback):\n",
    "    # For recording training history\n",
    "    def on_train_begin(self, logs={}):\n",
    "        self.losses = []\n",
    "    def on_batch_end(self, batch, logs={}):\n",
    "        self.losses.append(logs.get('loss'))\n",
    "\n",
    "callback = Callback()\n",
    "history = LossHistory()\n",
    "early_stopping = EarlyStopping(monitor='val_loss', patience=5, restore_best_weights=True, verbose=2)\n",
    "lrplateau = ReduceLROnPlateau(monitor='val_loss', factor=0.2, patience=1, verbose=2)"
   ]
  },
  {
   "cell_type": "code",
   "execution_count": 22,
   "metadata": {},
   "outputs": [],
   "source": [
    "model.compile(loss='categorical_crossentropy', optimizer='adam', metrics=['accuracy'])"
   ]
  },
  {
   "cell_type": "code",
   "execution_count": 23,
   "metadata": {},
   "outputs": [
    {
     "name": "stdout",
     "output_type": "stream",
     "text": [
      "Train on 60000 samples, validate on 10000 samples\n",
      "Epoch 1/20\n",
      " - 240s - loss: 0.5434 - acc: 0.8327 - val_loss: 0.0808 - val_acc: 0.9756\n",
      "Epoch 2/20\n",
      " - 264s - loss: 0.1300 - acc: 0.9620 - val_loss: 0.0490 - val_acc: 0.9850\n",
      "Epoch 3/20\n",
      " - 259s - loss: 0.0904 - acc: 0.9737 - val_loss: 0.0437 - val_acc: 0.9861\n",
      "Epoch 4/20\n",
      " - 268s - loss: 0.0757 - acc: 0.9781 - val_loss: 0.0381 - val_acc: 0.9885\n",
      "Epoch 5/20\n",
      " - 264s - loss: 0.0663 - acc: 0.9811 - val_loss: 0.0372 - val_acc: 0.9892\n",
      "Epoch 6/20\n",
      " - 275s - loss: 0.0581 - acc: 0.9832 - val_loss: 0.0350 - val_acc: 0.9900\n",
      "Epoch 7/20\n",
      " - 251s - loss: 0.0546 - acc: 0.9843 - val_loss: 0.0352 - val_acc: 0.9887\n",
      "\n",
      "Epoch 00007: ReduceLROnPlateau reducing learning rate to 0.00020000000949949026.\n",
      "Epoch 8/20\n",
      " - 250s - loss: 0.0386 - acc: 0.9888 - val_loss: 0.0253 - val_acc: 0.9911\n",
      "Epoch 9/20\n",
      " - 233s - loss: 0.0315 - acc: 0.9909 - val_loss: 0.0265 - val_acc: 0.9909\n",
      "\n",
      "Epoch 00009: ReduceLROnPlateau reducing learning rate to 4.0000001899898055e-05.\n",
      "Epoch 10/20\n",
      " - 244s - loss: 0.0290 - acc: 0.9913 - val_loss: 0.0252 - val_acc: 0.9923\n",
      "Epoch 11/20\n",
      " - 243s - loss: 0.0287 - acc: 0.9913 - val_loss: 0.0248 - val_acc: 0.9924\n",
      "Epoch 12/20\n",
      " - 249s - loss: 0.0275 - acc: 0.9918 - val_loss: 0.0247 - val_acc: 0.9924\n",
      "\n",
      "Epoch 00012: ReduceLROnPlateau reducing learning rate to 8.000000525498762e-06.\n",
      "Epoch 13/20\n",
      " - 238s - loss: 0.0257 - acc: 0.9922 - val_loss: 0.0246 - val_acc: 0.9925\n",
      "Epoch 14/20\n",
      " - 255s - loss: 0.0282 - acc: 0.9920 - val_loss: 0.0246 - val_acc: 0.9925\n",
      "\n",
      "Epoch 00014: ReduceLROnPlateau reducing learning rate to 1.6000001778593287e-06.\n",
      "Epoch 15/20\n",
      " - 238s - loss: 0.0247 - acc: 0.9923 - val_loss: 0.0246 - val_acc: 0.9925\n",
      "\n",
      "Epoch 00015: ReduceLROnPlateau reducing learning rate to 3.200000264769187e-07.\n",
      "Epoch 16/20\n",
      " - 256s - loss: 0.0270 - acc: 0.9921 - val_loss: 0.0245 - val_acc: 0.9925\n",
      "\n",
      "Epoch 00016: ReduceLROnPlateau reducing learning rate to 6.400000529538374e-08.\n",
      "Epoch 17/20\n",
      " - 245s - loss: 0.0264 - acc: 0.9920 - val_loss: 0.0245 - val_acc: 0.9925\n",
      "\n",
      "Epoch 00017: ReduceLROnPlateau reducing learning rate to 1.2800001059076749e-08.\n",
      "Epoch 18/20\n",
      " - 250s - loss: 0.0266 - acc: 0.9913 - val_loss: 0.0245 - val_acc: 0.9925\n",
      "\n",
      "Epoch 00018: ReduceLROnPlateau reducing learning rate to 2.5600002118153498e-09.\n",
      "Epoch 19/20\n",
      " - 256s - loss: 0.0259 - acc: 0.9919 - val_loss: 0.0245 - val_acc: 0.9925\n",
      "\n",
      "Epoch 00019: ReduceLROnPlateau reducing learning rate to 5.1200004236307e-10.\n",
      "Epoch 20/20\n",
      " - 260s - loss: 0.0273 - acc: 0.9920 - val_loss: 0.0245 - val_acc: 0.9925\n",
      "\n",
      "Epoch 00020: ReduceLROnPlateau reducing learning rate to 1.0240001069306004e-10.\n"
     ]
    }
   ],
   "source": [
    "hist = model.fit(X_train, Y_train, batch_size=BATCH, epochs=epochs, verbose=2, \n",
    "                 validation_data=(X_test, Y_test), callbacks=[early_stopping, history, lrplateau])"
   ]
  },
  {
   "cell_type": "code",
   "execution_count": 26,
   "metadata": {},
   "outputs": [
    {
     "name": "stdout",
     "output_type": "stream",
     "text": [
      "# Plotting the loss and accuracy metrics\n"
     ]
    },
    {
     "data": {
      "image/png": "[encoded data removed]",
      "text/plain": [
       "<Figure size 432x288 with 1 Axes>"
      ]
     },
     "metadata": {
      "needs_background": "light"
     },
     "output_type": "display_data"
    },
    {
     "data": {
      "image/png": "[encoded data removed]",
      "text/plain": [
       "<Figure size 432x288 with 1 Axes>"
      ]
     },
     "metadata": {
      "needs_background": "light"
     },
     "output_type": "display_data"
    }
   ],
   "source": [
    "history = hist.history\n",
    "iter_epochs = len(history['loss'])\n",
    "\n",
    "def loss_accuracy_plot(iter_epochs, hist_dict):\n",
    "    print('# Plotting the loss and accuracy metrics')\n",
    "    epochs = range(1, iter_epochs+1)\n",
    "    \n",
    "    loss_values = hist_dict['loss']\n",
    "    val_loss_values = hist_dict['val_loss']\n",
    "    acc_values = hist_dict['acc']\n",
    "    val_acc_values = hist_dict['val_acc']\n",
    "    \n",
    "    plt.plot(epochs, loss_values, 'bo', label='Training loss')\n",
    "    plt.plot(epochs, val_loss_values, 'b', label='Validation loss')\n",
    "    plt.title('Model loss')\n",
    "    plt.xlabel('Epochs')\n",
    "    plt.ylabel('Loss')\n",
    "    plt.legend(['Train', 'Test'], loc='upper right')\n",
    "    plt.show()\n",
    "\n",
    "    plt.clf()\n",
    "    \n",
    "    plt.plot(epochs, acc_values, 'bo', label='Training acc')\n",
    "    plt.plot(epochs, val_acc_values, 'b', label='Validation acc')\n",
    "    plt.title('Model accuracy')\n",
    "    plt.xlabel('Epochs')\n",
    "    plt.ylabel('Accuracy')\n",
    "    plt.legend(['Train', 'Test'], loc='lower right')\n",
    "    plt.show()\n",
    "\n",
    "loss_accuracy_plot(iter_epochs, history)"
   ]
  },
  {
   "cell_type": "code",
   "execution_count": null,
   "metadata": {},
   "outputs": [],
   "source": [
    "# Final model evaluation\n",
    "scores = model.evaluate(X_test, Y_test, verbose=2)\n",
    "print(\"Baseline Error: %.2f%%\" % (100-scores[1]*100))"
   ]
  }
 ],
 "metadata": {
  "kernelspec": {
   "display_name": "Python 3",
   "language": "python",
   "name": "python3"
  },
  "language_info": {
   "codemirror_mode": {
    "name": "ipython",
    "version": 3
   },
   "file_extension": ".py",
   "mimetype": "text/x-python",
   "name": "python",
   "nbconvert_exporter": "python",
   "pygments_lexer": "ipython3",
   "version": "3.6.6"
  }
 },
 "nbformat": 4,
 "nbformat_minor": 2
}
